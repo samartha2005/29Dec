{
 "cells": [
  {
   "cell_type": "code",
   "execution_count": null,
   "id": "d473e62f-cb4b-4c3b-a6c5-f797b1d233c2",
   "metadata": {},
   "outputs": [],
   "source": [
    "#DSA"
   ]
  },
  {
   "cell_type": "code",
   "execution_count": 1,
   "id": "216ff0d0-a765-4362-95f1-06d9723a3b9c",
   "metadata": {},
   "outputs": [
    {
     "name": "stdout",
     "output_type": "stream",
     "text": [
      "5 -> 4 -> 3 -> 2 -> 1 -> "
     ]
    }
   ],
   "source": [
    "'''Problem 1: Reverse a singly linked list. Input: 1 -> 2 -> 3 -> 4 -> 5'''\n",
    "\n",
    "\n",
    "\n",
    "# code\n",
    "class ListNode:\n",
    "    def __init__(self, value=0, next=None):\n",
    "        self.value = value\n",
    "        self.next = next\n",
    "\n",
    "def reverse_linked_list(head):\n",
    "    prev = None\n",
    "    current = head\n",
    "\n",
    "    while current is not None:\n",
    "        next_node = current.next\n",
    "        current.next = prev\n",
    "        prev = current\n",
    "        current = next_node\n",
    "\n",
    "    return prev\n",
    "\n",
    "# Example usage:\n",
    "# Create a linked list: 1 -> 2 -> 3 -> 4 -> 5\n",
    "head = ListNode(1, ListNode(2, ListNode(3, ListNode(4, ListNode(5)))))\n",
    "\n",
    "# Reverse the linked list\n",
    "new_head = reverse_linked_list(head)\n",
    "\n",
    "# Print the reversed linked list\n",
    "while new_head is not None:\n",
    "    print(new_head.value, end=\" -> \")\n",
    "    new_head = new_head.next\n"
   ]
  },
  {
   "cell_type": "code",
   "execution_count": 2,
   "id": "73e04717-e013-4b56-a236-ad6a68453413",
   "metadata": {},
   "outputs": [
    {
     "name": "stdout",
     "output_type": "stream",
     "text": [
      "1 -> 2 -> 3 -> 4 -> 5 -> 6 -> "
     ]
    }
   ],
   "source": [
    "'''Problem 2: Merge two sorted linked lists into one sorted linked list. Input: List 1: 1 -> 3 -> 5, List 2: 2 -> 4 -> 6'''\n",
    "\n",
    "# Code\n",
    "class ListNode:\n",
    "    def __init__(self, value=0, next=None):\n",
    "        self.value = value\n",
    "        self.next = next\n",
    "\n",
    "def merge_sorted_lists(list1, list2):\n",
    "    dummy = ListNode()\n",
    "    current = dummy\n",
    "\n",
    "    while list1 is not None and list2 is not None:\n",
    "        if list1.value < list2.value:\n",
    "            current.next = list1\n",
    "            list1 = list1.next\n",
    "        else:\n",
    "            current.next = list2\n",
    "            list2 = list2.next\n",
    "\n",
    "        current = current.next\n",
    "\n",
    "    # If one list is longer than the other\n",
    "    if list1 is not None:\n",
    "        current.next = list1\n",
    "    else:\n",
    "        current.next = list2\n",
    "\n",
    "    return dummy.next\n",
    "\n",
    "# Example usage:\n",
    "# Create two sorted linked lists: 1 -> 3 -> 5, 2 -> 4 -> 6\n",
    "list1 = ListNode(1, ListNode(3, ListNode(5)))\n",
    "list2 = ListNode(2, ListNode(4, ListNode(6)))\n",
    "\n",
    "# Merge the two lists\n",
    "merged_list = merge_sorted_lists(list1, list2)\n",
    "\n",
    "# Print the merged list\n",
    "while merged_list is not None:\n",
    "    print(merged_list.value, end=\" -> \")\n",
    "    merged_list = merged_list.next\n"
   ]
  },
  {
   "cell_type": "code",
   "execution_count": 3,
   "id": "4d4bd2cb-78e1-4ac6-96a0-6729be852d1c",
   "metadata": {},
   "outputs": [
    {
     "name": "stdout",
     "output_type": "stream",
     "text": [
      "1 -> 2 -> 3 -> 5 -> "
     ]
    }
   ],
   "source": [
    "''' Problem 3: Remove the nth node from the end of a linked list. Input: 1 -> 2 -> 3 -> 4 -> 5, n = 2'''\n",
    "\n",
    "\n",
    "# Code\n",
    "class ListNode:\n",
    "    def __init__(self, value=0, next=None):\n",
    "        self.value = value\n",
    "        self.next = next\n",
    "\n",
    "def remove_nth_from_end(head, n):\n",
    "    dummy = ListNode(0)\n",
    "    dummy.next = head\n",
    "    first = dummy\n",
    "    second = dummy\n",
    "\n",
    "    # Advance first pointer to the (n+1)-th node\n",
    "    for _ in range(n + 1):\n",
    "        first = first.next\n",
    "\n",
    "    # Move both pointers until the first pointer reaches the end\n",
    "    while first is not None:\n",
    "        first = first.next\n",
    "        second = second.next\n",
    "\n",
    "    # Remove the nth node from the end\n",
    "    second.next = second.next.next\n",
    "\n",
    "    return dummy.next\n",
    "\n",
    "# Example usage:\n",
    "# Create a linked list: 1 -> 2 -> 3 -> 4 -> 5\n",
    "head = ListNode(1, ListNode(2, ListNode(3, ListNode(4, ListNode(5)))))\n",
    "\n",
    "# Remove the 2nd node from the end\n",
    "new_head = remove_nth_from_end(head, 2)\n",
    "\n",
    "# Print the modified linked list\n",
    "while new_head is not None:\n",
    "    print(new_head.value, end=\" -> \")\n",
    "    new_head = new_head.next\n"
   ]
  },
  {
   "cell_type": "code",
   "execution_count": 4,
   "id": "5ec2c126-4ca8-4447-9f0c-7ce0775980a4",
   "metadata": {},
   "outputs": [
    {
     "name": "stdout",
     "output_type": "stream",
     "text": [
      "Intersection Node Value: 3\n"
     ]
    }
   ],
   "source": [
    "'''Problem 4: Find the intersection point of two linked lists. Input: List 1: 1 -> 2 -> 3 -> 4, List 2: 9 -> 8 -> 3 -> 4'''\n",
    "\n",
    "# code\n",
    "class ListNode:\n",
    "    def __init__(self, value=0, next=None):\n",
    "        self.value = value\n",
    "        self.next = next\n",
    "\n",
    "def get_intersection_node(head1, head2):\n",
    "    # Function to get the length of a linked list\n",
    "    def get_length(node):\n",
    "        length = 0\n",
    "        while node is not None:\n",
    "            length += 1\n",
    "            node = node.next\n",
    "        return length\n",
    "\n",
    "    # Get lengths of both linked lists\n",
    "    len1 = get_length(head1)\n",
    "    len2 = get_length(head2)\n",
    "\n",
    "    # Move the pointers to the same starting point\n",
    "    current1, current2 = head1, head2\n",
    "    for _ in range(abs(len1 - len2)):\n",
    "        if len1 > len2:\n",
    "            current1 = current1.next\n",
    "        else:\n",
    "            current2 = current2.next\n",
    "\n",
    "    # Move both pointers until the intersection point is found\n",
    "    while current1 is not None and current2 is not None:\n",
    "        if current1 == current2:\n",
    "            return current1\n",
    "        current1 = current1.next\n",
    "        current2 = current2.next\n",
    "\n",
    "    return None\n",
    "\n",
    "# Example usage:\n",
    "# Create two linked lists with an intersection point: 1 -> 2 -> 3 -> 4, 9 -> 8 -> 3 -> 4\n",
    "list1 = ListNode(1, ListNode(2, ListNode(3, ListNode(4))))\n",
    "list2 = ListNode(9, ListNode(8, list1.next.next))  # Creating intersection\n",
    "\n",
    "# Find the intersection node\n",
    "intersection_node = get_intersection_node(list1, list2)\n",
    "\n",
    "# Print the intersection node's value\n",
    "if intersection_node is not None:\n",
    "    print(f\"Intersection Node Value: {intersection_node.value}\")\n",
    "else:\n",
    "    print(\"No intersection found.\")\n"
   ]
  },
  {
   "cell_type": "code",
   "execution_count": 5,
   "id": "506d7602-7f74-427e-9866-42b6ac77c865",
   "metadata": {},
   "outputs": [
    {
     "name": "stdout",
     "output_type": "stream",
     "text": [
      "1 -> 2 -> 3 -> "
     ]
    }
   ],
   "source": [
    "'''Problem 5: Remove duplicates from a sorted linked list.Input: 1 -> 1 -> 2 -> 3 -> 3'''\n",
    "\n",
    "# Code\n",
    "class ListNode:\n",
    "    def __init__(self, value=0, next=None):\n",
    "        self.value = value\n",
    "        self.next = next\n",
    "\n",
    "def remove_duplicates(head):\n",
    "    current = head\n",
    "\n",
    "    while current is not None and current.next is not None:\n",
    "        if current.value == current.next.value:\n",
    "            current.next = current.next.next\n",
    "        else:\n",
    "            current = current.next\n",
    "\n",
    "    return head\n",
    "\n",
    "# Example usage:\n",
    "# Create a sorted linked list with duplicates: 1 -> 1 -> 2 -> 3 -> 3\n",
    "head = ListNode(1, ListNode(1, ListNode(2, ListNode(3, ListNode(3)))))\n",
    "\n",
    "# Remove duplicates\n",
    "new_head = remove_duplicates(head)\n",
    "\n",
    "# Print the modified linked list without duplicates\n",
    "while new_head is not None:\n",
    "    print(new_head.value, end=\" -> \")\n",
    "    new_head = new_head.next\n"
   ]
  },
  {
   "cell_type": "code",
   "execution_count": 6,
   "id": "19a8e207-5496-4cad-bb2c-649ecfab592d",
   "metadata": {},
   "outputs": [
    {
     "name": "stdout",
     "output_type": "stream",
     "text": [
      "7 -> 0 -> 8 -> "
     ]
    }
   ],
   "source": [
    "'''Problem 6: Add two numbers represented by linked lists (where each node contains a single digit).\n",
    "Input: List 1: 2 -> 4 -> 3, List 2: 5 -> 6 -> 4 (represents 342 + 465)'''\n",
    "\n",
    "\n",
    "# Code\n",
    "class ListNode:\n",
    "    def __init__(self, value=0, next=None):\n",
    "        self.value = value\n",
    "        self.next = next\n",
    "\n",
    "def add_two_numbers(l1, l2):\n",
    "    dummy = ListNode()\n",
    "    current = dummy\n",
    "    carry = 0\n",
    "\n",
    "    while l1 is not None or l2 is not None or carry != 0:\n",
    "        # Extract values from the current nodes\n",
    "        value1 = l1.value if l1 is not None else 0\n",
    "        value2 = l2.value if l2 is not None else 0\n",
    "\n",
    "        # Calculate the sum and carry\n",
    "        total = value1 + value2 + carry\n",
    "        carry = total // 10\n",
    "        current.next = ListNode(total % 10)\n",
    "\n",
    "        # Move to the next nodes if available\n",
    "        if l1 is not None:\n",
    "            l1 = l1.next\n",
    "        if l2 is not None:\n",
    "            l2 = l2.next\n",
    "\n",
    "        current = current.next\n",
    "\n",
    "    return dummy.next\n",
    "\n",
    "# Example usage:\n",
    "# Create two linked lists representing numbers: 2 -> 4 -> 3 and 5 -> 6 -> 4\n",
    "list1 = ListNode(2, ListNode(4, ListNode(3)))\n",
    "list2 = ListNode(5, ListNode(6, ListNode(4)))\n",
    "\n",
    "# Add the two numbers\n",
    "result = add_two_numbers(list1, list2)\n",
    "\n",
    "# Print the result linked list\n",
    "while result is not None:\n",
    "    print(result.value, end=\" -> \")\n",
    "    result = result.next\n"
   ]
  },
  {
   "cell_type": "code",
   "execution_count": 7,
   "id": "6f0f7453-5f73-4365-a2f9-5bee141fec45",
   "metadata": {},
   "outputs": [
    {
     "name": "stdout",
     "output_type": "stream",
     "text": [
      "2 -> 1 -> 4 -> 3 -> "
     ]
    }
   ],
   "source": [
    "'''Problem 7: Swap nodes in pairs in a linked list.Input: 1 -> 2 -> 3 -> 4'''\n",
    "\n",
    "# code\n",
    "class ListNode:\n",
    "    def __init__(self, value=0, next=None):\n",
    "        self.value = value\n",
    "        self.next = next\n",
    "\n",
    "def swap_pairs(head):\n",
    "    dummy = ListNode(0)\n",
    "    dummy.next = head\n",
    "    current = dummy\n",
    "\n",
    "    while current.next is not None and current.next.next is not None:\n",
    "        # Nodes to be swapped\n",
    "        node1 = current.next\n",
    "        node2 = current.next.next\n",
    "\n",
    "        # Perform the swap\n",
    "        current.next = node2\n",
    "        node1.next = node2.next\n",
    "        node2.next = node1\n",
    "\n",
    "        # Move to the next pair\n",
    "        current = node1\n",
    "\n",
    "    return dummy.next\n",
    "\n",
    "# Example usage:\n",
    "# Create a linked list: 1 -> 2 -> 3 -> 4\n",
    "head = ListNode(1, ListNode(2, ListNode(3, ListNode(4))))\n",
    "\n",
    "# Swap nodes in pairs\n",
    "new_head = swap_pairs(head)\n",
    "\n",
    "# Print the modified linked list\n",
    "while new_head is not None:\n",
    "    print(new_head.value, end=\" -> \")\n",
    "    new_head = new_head.next\n"
   ]
  },
  {
   "cell_type": "code",
   "execution_count": 1,
   "id": "75265924-ca97-4729-8445-f2cfa7e5901a",
   "metadata": {},
   "outputs": [
    {
     "name": "stdout",
     "output_type": "stream",
     "text": [
      "3 -> 4 -> 5 -> 2 -> 1 -> None\n"
     ]
    }
   ],
   "source": [
    "'''Problem 8: Reverse nodes in a linked list in groups of k. Input: 1 -> 2 -> 3 -> 4 -> 5, k = 3'''\n",
    "\n",
    "# code\n",
    "class ListNode:\n",
    "    def __init__(self, value=0, next=None):\n",
    "        self.value = value\n",
    "        self.next = next\n",
    "\n",
    "def reverse_k_group(head, k):\n",
    "    if not head or k == 1:\n",
    "        return head\n",
    "\n",
    "    dummy = ListNode(0)\n",
    "    dummy.next = head\n",
    "    prev_group_end = dummy\n",
    "    while True:\n",
    "        # Find the end of the current group\n",
    "        group_end = prev_group_end\n",
    "        for _ in range(k):\n",
    "            group_end = group_end.next\n",
    "            if not group_end:\n",
    "                return dummy.next  # If the remaining nodes are less than k\n",
    "\n",
    "        # Reverse the current group\n",
    "        prev, current = None, prev_group_end.next\n",
    "        for _ in range(k):\n",
    "            temp = current.next\n",
    "            current.next = prev\n",
    "            prev = current\n",
    "            current = temp\n",
    "\n",
    "        # Connect the reversed group back to the list\n",
    "        prev_group_end.next.next = current\n",
    "        prev_group_end.next = prev\n",
    "\n",
    "        # Move the pointer to the end of the reversed group\n",
    "        prev_group_end = group_end\n",
    "\n",
    "# Function to print the linked list\n",
    "def print_list(head):\n",
    "    current = head\n",
    "    while current:\n",
    "        print(current.value, end=\" -> \")\n",
    "        current = current.next\n",
    "    print(\"None\")\n",
    "\n",
    "# Example usage\n",
    "head = ListNode(1, ListNode(2, ListNode(3, ListNode(4, ListNode(5)))))\n",
    "k = 3\n",
    "result = reverse_k_group(head, k)\n",
    "print_list(result)\n"
   ]
  },
  {
   "cell_type": "code",
   "execution_count": 14,
   "id": "f5a86c81-fa0a-40ca-b8f1-82a84e1d8b0d",
   "metadata": {},
   "outputs": [
    {
     "name": "stdout",
     "output_type": "stream",
     "text": [
      "True\n"
     ]
    }
   ],
   "source": [
    "'''Problem 9: Determine if a linked list is a palindrome.Input: 1 -> 2 -> 2 -> 1'''\n",
    "\n",
    "\n",
    "# Code\n",
    "class ListNode:\n",
    "    def __init__(self, value=0, next=None):\n",
    "        self.value = value\n",
    "        self.next = next\n",
    "\n",
    "def is_palindrome(head):\n",
    "    # Function to reverse a linked list\n",
    "    def reverse_list(node):\n",
    "        prev, current = None, node\n",
    "        while current is not None:\n",
    "            next_node = current.next\n",
    "            current.next = prev\n",
    "            prev = current\n",
    "            current = next_node\n",
    "        return prev\n",
    "\n",
    "    # Function to compare two linked lists\n",
    "    def compare_lists(list1, list2):\n",
    "        while list1 is not None and list2 is not None:\n",
    "            if list1.value != list2.value:\n",
    "                return False\n",
    "            list1 = list1.next\n",
    "            list2 = list2.next\n",
    "        return True\n",
    "\n",
    "    if head is None or head.next is None:\n",
    "        return True\n",
    "\n",
    "    # Find the middle of the linked list\n",
    "    slow = head\n",
    "    fast = head\n",
    "    while fast.next is not None and fast.next.next is not None:\n",
    "        slow = slow.next\n",
    "        fast = fast.next.next\n",
    "\n",
    "    # Reverse the second half of the linked list\n",
    "    reversed_second_half = reverse_list(slow.next)\n",
    "\n",
    "    # Compare the first and reversed second halves of the linked list\n",
    "    result = compare_lists(head, reversed_second_half)\n",
    "\n",
    "    return result\n",
    "\n",
    "# Example usage:\n",
    "# Create a linked list: 1 -> 2 -> 2 -> 1\n",
    "head = ListNode(1, ListNode(2, ListNode(2, ListNode(1))))\n",
    "\n",
    "# Check if the linked list is a palindrome\n",
    "result = is_palindrome(head)\n",
    "\n",
    "# Print the result\n",
    "print(result)\n"
   ]
  },
  {
   "cell_type": "code",
   "execution_count": 15,
   "id": "f59c511e-d6ed-45cb-85c2-0979534b6447",
   "metadata": {},
   "outputs": [
    {
     "name": "stdout",
     "output_type": "stream",
     "text": [
      "4 -> 5 -> 1 -> 2 -> 3 -> "
     ]
    }
   ],
   "source": [
    "'''Problem 10: Rotate a linked list to the right by k places.Input: 1 -> 2 -> 3 -> 4 -> 5, k = 2'''\n",
    "\n",
    "# code\n",
    "class ListNode:\n",
    "    def __init__(self, value=0, next=None):\n",
    "        self.value = value\n",
    "        self.next = next\n",
    "\n",
    "def rotate_right(head, k):\n",
    "    if not head or k == 0:\n",
    "        return head\n",
    "\n",
    "    # Find the length of the linked list\n",
    "    length = 1\n",
    "    current = head\n",
    "    while current.next:\n",
    "        current = current.next\n",
    "        length += 1\n",
    "\n",
    "    # Adjust k to be within the length of the linked list\n",
    "    k = k % length\n",
    "\n",
    "    if k == 0:\n",
    "        return head\n",
    "\n",
    "    # Find the new tail and break the linked list\n",
    "    new_tail = head\n",
    "    for _ in range(length - k - 1):\n",
    "        new_tail = new_tail.next\n",
    "\n",
    "    new_head = new_tail.next\n",
    "    new_tail.next = None\n",
    "\n",
    "    # Connect the old tail to the old head\n",
    "    current.next = head\n",
    "\n",
    "    return new_head\n",
    "\n",
    "# Example usage:\n",
    "# Create a linked list: 1 -> 2 -> 3 -> 4 -> 5\n",
    "head = ListNode(1, ListNode(2, ListNode(3, ListNode(4, ListNode(5)))))\n",
    "\n",
    "# Rotate the linked list to the right by k = 2 places\n",
    "new_head = rotate_right(head, 2)\n",
    "\n",
    "# Print the modified linked list\n",
    "while new_head is not None:\n",
    "    print(new_head.value, end=\" -> \")\n",
    "    new_head = new_head.next\n"
   ]
  },
  {
   "cell_type": "code",
   "execution_count": 16,
   "id": "aebe0a1c-b514-4cf4-ba96-3ac6d171eca2",
   "metadata": {},
   "outputs": [
    {
     "name": "stdout",
     "output_type": "stream",
     "text": [
      "1 <-> 2 <-> 3 <-> 4 <-> 5 <-> 6 <-> 7 <-> 8 <-> 9 <-> 10 <-> 11 <-> 12 <-> 13"
     ]
    }
   ],
   "source": [
    "'''Problem 11: Flatten a multilevel doubly linked list.\n",
    "Input: 1 <-> 2 <-> 3 <-> 7 <-> 8 <-> 11 -> 12, 4 <-> 5 -> 9 -> 10, 6 -> 13\n",
    "'''\n",
    "\n",
    "# code\n",
    "import heapq\n",
    "\n",
    "class ListNode:\n",
    "    def __init__(self, value=0, next=None):\n",
    "        self.value = value\n",
    "        self.next = next\n",
    "\n",
    "def merge_k_sorted_lists(lists):\n",
    "    # Create a min heap to store the elements from all lists\n",
    "    heap = []\n",
    "    \n",
    "    # Add the first element from each list to the heap\n",
    "    for i, lst in enumerate(lists):\n",
    "        if lst is not None:\n",
    "            heapq.heappush(heap, (lst.value, i, lst))\n",
    "    \n",
    "    dummy = ListNode()\n",
    "    current = dummy\n",
    "    \n",
    "    # Iterate until the heap is empty\n",
    "    while heap:\n",
    "        val, index, node = heapq.heappop(heap)\n",
    "        current.next = ListNode(val)\n",
    "        current = current.next\n",
    "        \n",
    "        # Move to the next node in the list from which the element was extracted\n",
    "        if node.next:\n",
    "            heapq.heappush(heap, (node.next.value, index, node.next))\n",
    "    \n",
    "    return dummy.next\n",
    "\n",
    "# Example usage:\n",
    "# Create linked lists: 1 -> 2 -> 3 -> 7 -> 8 -> 11 -> 12, 4 -> 5 -> 9 -> 10, 6 -> 13\n",
    "list1 = ListNode(1, ListNode(2, ListNode(3, ListNode(7, ListNode(8, ListNode(11, ListNode(12)))))))\n",
    "list2 = ListNode(4, ListNode(5, ListNode(9, ListNode(10))))\n",
    "list3 = ListNode(6, ListNode(13))\n",
    "\n",
    "# Merge the sorted lists\n",
    "merged_list = merge_k_sorted_lists([list1, list2, list3])\n",
    "\n",
    "# Print the merged list\n",
    "while merged_list is not None:\n",
    "    print(merged_list.value, end=\" <-> \" if merged_list.next else \"\")\n",
    "    merged_list = merged_list.next\n"
   ]
  },
  {
   "cell_type": "code",
   "execution_count": 17,
   "id": "da21dab1-95bd-4138-b4e6-adb6de1a73b7",
   "metadata": {},
   "outputs": [
    {
     "name": "stdout",
     "output_type": "stream",
     "text": [
      "1 -> 3 -> 5 -> 2 -> 4 -> "
     ]
    }
   ],
   "source": [
    "'''Problem 12: Rearrange a linked list such that all even positioned nodes are placed at the end.Input:1 -> 2 -> 3 -> 4 -> 5'''\n",
    "\n",
    "# code\n",
    "class ListNode:\n",
    "    def __init__(self, value=0, next=None):\n",
    "        self.value = value\n",
    "        self.next = next\n",
    "\n",
    "def reorder_linked_list(head):\n",
    "    if not head or not head.next:\n",
    "        return head\n",
    "\n",
    "    # Separate the linked list into two halves (odd and even)\n",
    "    odd_head = head\n",
    "    even_head = head.next\n",
    "\n",
    "    # Save the head of the even half for later merging\n",
    "    even_start = even_head\n",
    "\n",
    "    while even_head and even_head.next:\n",
    "        # Move the odd and even pointers to their next respective nodes\n",
    "        odd_head.next = even_head.next\n",
    "        odd_head = odd_head.next\n",
    "        even_head.next = odd_head.next\n",
    "        even_head = even_head.next\n",
    "\n",
    "    # Merge the two halves\n",
    "    odd_head.next = even_start\n",
    "\n",
    "    return head\n",
    "\n",
    "# Example usage:\n",
    "# Create a linked list: 1 -> 2 -> 3 -> 4 -> 5\n",
    "head = ListNode(1, ListNode(2, ListNode(3, ListNode(4, ListNode(5)))))\n",
    "\n",
    "# Reorder the linked list\n",
    "new_head = reorder_linked_list(head)\n",
    "\n",
    "# Print the reordered linked list\n",
    "while new_head is not None:\n",
    "    print(new_head.value, end=\" -> \")\n",
    "    new_head = new_head.next\n"
   ]
  },
  {
   "cell_type": "code",
   "execution_count": 18,
   "id": "8c4c07a9-d37b-4182-8a79-6ea404a3b713",
   "metadata": {},
   "outputs": [
    {
     "name": "stdout",
     "output_type": "stream",
     "text": [
      "1 -> 2 -> 4 -> "
     ]
    }
   ],
   "source": [
    "'''Problem 13: Given a non-negative number represented as a linked list, add one to it.\n",
    "Input: 1 -> 2 -> 3 (represents the number 123)'''\n",
    "\n",
    "# code\n",
    "class ListNode:\n",
    "    def __init__(self, value=0, next=None):\n",
    "        self.value = value\n",
    "        self.next = next\n",
    "\n",
    "def add_one_to_number(head):\n",
    "    # Reverse the linked list\n",
    "    def reverse_list(node):\n",
    "        prev, current = None, node\n",
    "        while current is not None:\n",
    "            next_node = current.next\n",
    "            current.next = prev\n",
    "            prev = current\n",
    "            current = next_node\n",
    "        return prev\n",
    "\n",
    "    # Add one to the reversed linked list\n",
    "    def add_one_to_reversed_list(node):\n",
    "        carry = 1\n",
    "        while node is not None and carry:\n",
    "            node.value += carry\n",
    "            carry = node.value // 10\n",
    "            node.value %= 10\n",
    "            if node.next is None and carry:\n",
    "                node.next = ListNode(carry)\n",
    "            node = node.next\n",
    "\n",
    "    # Reverse the linked list back after adding one\n",
    "    reversed_head = reverse_list(head)\n",
    "    add_one_to_reversed_list(reversed_head)\n",
    "    result_head = reverse_list(reversed_head)\n",
    "\n",
    "    return result_head\n",
    "\n",
    "# Example usage:\n",
    "# Create a linked list: 1 -> 2 -> 3 (represents the number 123)\n",
    "head = ListNode(1, ListNode(2, ListNode(3)))\n",
    "\n",
    "# Add one to the number represented by the linked list\n",
    "result_head = add_one_to_number(head)\n",
    "\n",
    "# Print the result\n",
    "while result_head is not None:\n",
    "    print(result_head.value, end=\" -> \")\n",
    "    result_head = result_head.next\n"
   ]
  },
  {
   "cell_type": "code",
   "execution_count": 19,
   "id": "5809e15f-1255-41e2-98f5-1e19a808a44a",
   "metadata": {},
   "outputs": [
    {
     "name": "stdout",
     "output_type": "stream",
     "text": [
      "2\n"
     ]
    }
   ],
   "source": [
    "'''Problem 14: Given a sorted array and a target value, return the index if the target is found. If not, return the\n",
    "index where it would be inserted. Input: nums = [1, 3, 5, 6], target = 5'''\n",
    "\n",
    "# code\n",
    "def search_insert(nums, target):\n",
    "    left, right = 0, len(nums) - 1\n",
    "\n",
    "    while left <= right:\n",
    "        mid = left + (right - left) // 2\n",
    "\n",
    "        if nums[mid] == target:\n",
    "            return mid\n",
    "        elif nums[mid] < target:\n",
    "            left = mid + 1\n",
    "        else:\n",
    "            right = mid - 1\n",
    "\n",
    "    return left\n",
    "\n",
    "# Example usage:\n",
    "nums = [1, 3, 5, 6]\n",
    "target = 5\n",
    "\n",
    "result = search_insert(nums, target)\n",
    "print(result)\n"
   ]
  },
  {
   "cell_type": "code",
   "execution_count": 20,
   "id": "d32448fd-e9f4-466e-87d8-4b9fbeced2b5",
   "metadata": {},
   "outputs": [
    {
     "name": "stdout",
     "output_type": "stream",
     "text": [
      "0\n"
     ]
    }
   ],
   "source": [
    "'''Problem 15: Find the minimum element in a rotated sorted array. Input: [4, 5, 6, 7, 0, 1, 2]'''\n",
    "\n",
    "\n",
    "# code\n",
    "def find_minimum(nums):\n",
    "    left, right = 0, len(nums) - 1\n",
    "\n",
    "    while left < right:\n",
    "        mid = left + (right - left) // 2\n",
    "\n",
    "        if nums[mid] > nums[right]:\n",
    "            left = mid + 1\n",
    "        else:\n",
    "            right = mid\n",
    "\n",
    "    return nums[left]\n",
    "\n",
    "# Example usage:\n",
    "nums = [4, 5, 6, 7, 0, 1, 2]\n",
    "\n",
    "result = find_minimum(nums)\n",
    "print(result)\n"
   ]
  },
  {
   "cell_type": "code",
   "execution_count": 21,
   "id": "3d4e7e62-858d-44aa-9f58-26f228d7a3e3",
   "metadata": {},
   "outputs": [
    {
     "name": "stdout",
     "output_type": "stream",
     "text": [
      "4\n"
     ]
    }
   ],
   "source": [
    "'''Problem 16: Search for a target value in a rotated sorted array. Input: nums = [4, 5, 6, 7, 0, 1, 2], target = 0'''\n",
    "\n",
    "# code\n",
    "def search_rotated(nums, target):\n",
    "    left, right = 0, len(nums) - 1\n",
    "\n",
    "    while left <= right:\n",
    "        mid = left + (right - left) // 2\n",
    "\n",
    "        if nums[mid] == target:\n",
    "            return mid\n",
    "\n",
    "        if nums[left] <= nums[mid]:\n",
    "            if nums[left] <= target < nums[mid]:\n",
    "                right = mid - 1\n",
    "            else:\n",
    "                left = mid + 1\n",
    "        else:\n",
    "            if nums[mid] < target <= nums[right]:\n",
    "                left = mid + 1\n",
    "            else:\n",
    "                right = mid - 1\n",
    "\n",
    "    return -1  # Target not found\n",
    "\n",
    "# Example usage:\n",
    "nums = [4, 5, 6, 7, 0, 1, 2]\n",
    "target = 0\n",
    "\n",
    "result = search_rotated(nums, target)\n",
    "print(result)\n"
   ]
  },
  {
   "cell_type": "code",
   "execution_count": 22,
   "id": "85837a11-ded4-473c-893b-941dc4d7c289",
   "metadata": {},
   "outputs": [
    {
     "name": "stdout",
     "output_type": "stream",
     "text": [
      "2\n"
     ]
    }
   ],
   "source": [
    "'''Problem 17: Find the peak element in an array. A peak element is greater than its neighbors.Input: nums = [1, 2, 3, 1]'''\n",
    "\n",
    "# code\n",
    "def find_peak_element(nums):\n",
    "    left, right = 0, len(nums) - 1\n",
    "\n",
    "    while left < right:\n",
    "        mid = left + (right - left) // 2\n",
    "\n",
    "        if nums[mid] > nums[mid + 1]:\n",
    "            right = mid\n",
    "        else:\n",
    "            left = mid + 1\n",
    "\n",
    "    return left\n",
    "\n",
    "# Example usage:\n",
    "nums = [1, 2, 3, 1]\n",
    "\n",
    "result = find_peak_element(nums)\n",
    "print(result)\n"
   ]
  },
  {
   "cell_type": "code",
   "execution_count": 23,
   "id": "770c11b5-8232-453c-b737-1834d9214dd1",
   "metadata": {},
   "outputs": [
    {
     "name": "stdout",
     "output_type": "stream",
     "text": [
      "8\n"
     ]
    }
   ],
   "source": [
    "'''Problem 18: Given a m x n matrix where each row and column is sorted in ascending order, count the number\n",
    "of negative numbers.Input: grid = [[4, 3, 2, -1], [3, 2, 1, -1], [1, 1, -1, -2], [-1, -1, -2, -3]]'''\n",
    "\n",
    "# code\n",
    "def count_negatives(grid):\n",
    "    rows, cols = len(grid), len(grid[0])\n",
    "    count = 0\n",
    "    row, col = 0, cols - 1\n",
    "\n",
    "    while row < rows and col >= 0:\n",
    "        if grid[row][col] < 0:\n",
    "            count += (rows - row)\n",
    "            col -= 1\n",
    "        else:\n",
    "            row += 1\n",
    "\n",
    "    return count\n",
    "\n",
    "# Example usage:\n",
    "grid = [\n",
    "    [4, 3, 2, -1],\n",
    "    [3, 2, 1, -1],\n",
    "    [1, 1, -1, -2],\n",
    "    [-1, -1, -2, -3]\n",
    "]\n",
    "\n",
    "result = count_negatives(grid)\n",
    "print(result)\n"
   ]
  },
  {
   "cell_type": "code",
   "execution_count": 2,
   "id": "b63095dc-3469-4e6e-85a5-e8701f47000f",
   "metadata": {},
   "outputs": [
    {
     "name": "stdout",
     "output_type": "stream",
     "text": [
      "True\n"
     ]
    }
   ],
   "source": [
    "'''Problem 19: Given a 2D matrix sorted in ascending order in each row, and the first integer of each row is\n",
    "greater than the last integer of the previous row, determine if a target value is present in the matrix.\n",
    "Input: matrix = [[1, 3, 5, 7], [10, 11, 16, 20], [23, 30, 34, 60]], target = 3'''\n",
    "\n",
    "# code\n",
    "def search_matrix(matrix, target):\n",
    "    if not matrix or not matrix[0]:\n",
    "        return False\n",
    "\n",
    "    rows, cols = len(matrix), len(matrix[0])\n",
    "    low, high = 0, rows * cols - 1\n",
    "\n",
    "    while low <= high:\n",
    "        mid = (low + high) // 2\n",
    "        mid_value = matrix[mid // cols][mid % cols]\n",
    "\n",
    "        if mid_value == target:\n",
    "            return True\n",
    "        elif mid_value < target:\n",
    "            low = mid + 1\n",
    "        else:\n",
    "            high = mid - 1\n",
    "\n",
    "    return False\n",
    "\n",
    "# Example usage\n",
    "matrix = [[1, 3, 5, 7], [10, 11, 16, 20], [23, 30, 34, 60]]\n",
    "target = 3\n",
    "\n",
    "result = search_matrix(matrix, target)\n",
    "print(result)\n"
   ]
  },
  {
   "cell_type": "code",
   "execution_count": 3,
   "id": "53209b55-249e-46d5-a81f-c1fb8b9dcf2c",
   "metadata": {},
   "outputs": [
    {
     "name": "stdout",
     "output_type": "stream",
     "text": [
      "2\n"
     ]
    }
   ],
   "source": [
    "'''Problem 20: Find Median in Two Sorted Arrays\n",
    "Problem: Given two sorted arrays, find the median of the combined sorted array.\n",
    "Input: nums1 = [1, 3], nums2 = [2]'''\n",
    "\n",
    "# code\n",
    "def findMedianSortedArrays(nums1, nums2):\n",
    "    if len(nums1) > len(nums2):\n",
    "        nums1, nums2 = nums2, nums1\n",
    "\n",
    "    x, y = len(nums1), len(nums2)\n",
    "    low, high = 0, x\n",
    "\n",
    "    while low <= high:\n",
    "        partitionX = (low + high) // 2\n",
    "        partitionY = (x + y + 1) // 2 - partitionX\n",
    "\n",
    "        maxX = float('-inf') if partitionX == 0 else nums1[partitionX - 1]\n",
    "        minX = float('inf') if partitionX == x else nums1[partitionX]\n",
    "\n",
    "        maxY = float('-inf') if partitionY == 0 else nums2[partitionY - 1]\n",
    "        minY = float('inf') if partitionY == y else nums2[partitionY]\n",
    "\n",
    "        if maxX <= minY and maxY <= minX:\n",
    "            if (x + y) % 2 == 0:\n",
    "                return (max(maxX, maxY) + min(minX, minY)) / 2\n",
    "            else:\n",
    "                return max(maxX, maxY)\n",
    "\n",
    "        elif maxX > minY:\n",
    "            high = partitionX - 1\n",
    "        else:\n",
    "            low = partitionX + 1\n",
    "\n",
    "# Example usage\n",
    "nums1 = [1, 3]\n",
    "nums2 = [2]\n",
    "\n",
    "result = findMedianSortedArrays(nums1, nums2)\n",
    "print(result)\n"
   ]
  },
  {
   "cell_type": "code",
   "execution_count": 4,
   "id": "9cb7d95b-0178-4058-bc2b-1eb17e2ac083",
   "metadata": {},
   "outputs": [
    {
     "name": "stdout",
     "output_type": "stream",
     "text": [
      "c\n"
     ]
    }
   ],
   "source": [
    "'''Problem 21: Given a sorted character array and a target letter, find the smallest letter in the array that is\n",
    "greater than the target. Input: letters = ['c', 'f', 'j'], target = a'''\n",
    "\n",
    "# code\n",
    "def nextGreatestLetter(letters, target):\n",
    "    low, high = 0, len(letters)\n",
    "\n",
    "    while low < high:\n",
    "        mid = low + (high - low) // 2\n",
    "\n",
    "        if letters[mid] <= target:\n",
    "            low = mid + 1\n",
    "        else:\n",
    "            high = mid\n",
    "\n",
    "    return letters[low % len(letters)]\n",
    "\n",
    "# Example usage\n",
    "letters = ['c', 'f', 'j']\n",
    "target = 'a'\n",
    "\n",
    "result = nextGreatestLetter(letters, target)\n",
    "print(result)\n"
   ]
  },
  {
   "cell_type": "code",
   "execution_count": 5,
   "id": "2d931112-042a-4133-87c4-e90f58c8a8d2",
   "metadata": {},
   "outputs": [
    {
     "name": "stdout",
     "output_type": "stream",
     "text": [
      "[0, 0, 1, 1, 2, 2]\n"
     ]
    }
   ],
   "source": [
    "'''Problem 22: Given an array with n objects colored red, white, or blue, sort them in-place so that objects of\n",
    "the same color are adjacent, with the colors in the order red, white, and blue.\n",
    "Input: nums = [2, 0, 2, 1, 1, 0]'''\n",
    "\n",
    "# code\n",
    "def sortColors(nums):\n",
    "    low, mid, high = 0, 0, len(nums) - 1\n",
    "\n",
    "    while mid <= high:\n",
    "        if nums[mid] == 0:\n",
    "            nums[low], nums[mid] = nums[mid], nums[low]\n",
    "            low += 1\n",
    "            mid += 1\n",
    "        elif nums[mid] == 1:\n",
    "            mid += 1\n",
    "        else:\n",
    "            nums[mid], nums[high] = nums[high], nums[mid]\n",
    "            high -= 1\n",
    "\n",
    "# Example usage\n",
    "nums = [2, 0, 2, 1, 1, 0]\n",
    "sortColors(nums)\n",
    "print(nums)\n"
   ]
  },
  {
   "cell_type": "code",
   "execution_count": 6,
   "id": "66bf0812-eaae-4933-8e43-e2ac6a495de4",
   "metadata": {},
   "outputs": [
    {
     "name": "stdout",
     "output_type": "stream",
     "text": [
      "2\n"
     ]
    }
   ],
   "source": [
    "'''Problem 23: Find the kth largest element in an unsorted array. Input: nums = [3, 2, 1, 5, 6, 4], k = 2'''\n",
    "\n",
    "# code\n",
    "def findKthLargest(nums, k):\n",
    "    def partition(left, right, pivot_index):\n",
    "        pivot = nums[pivot_index]\n",
    "        nums[pivot_index], nums[right] = nums[right], nums[pivot_index]\n",
    "        store_index = left\n",
    "\n",
    "        for i in range(left, right):\n",
    "            if nums[i] > pivot:\n",
    "                nums[i], nums[store_index] = nums[store_index], nums[i]\n",
    "                store_index += 1\n",
    "\n",
    "        nums[store_index], nums[right] = nums[right], nums[store_index]\n",
    "        return store_index\n",
    "\n",
    "    def quickselect(left, right, k_smallest):\n",
    "        if left == right:\n",
    "            return nums[left]\n",
    "\n",
    "        pivot_index = (left + right) // 2\n",
    "        pivot_index = partition(left, right, pivot_index)\n",
    "\n",
    "        if k_smallest == pivot_index:\n",
    "            return nums[k_smallest]\n",
    "        elif k_smallest < pivot_index:\n",
    "            return quickselect(left, pivot_index - 1, k_smallest)\n",
    "        else:\n",
    "            return quickselect(pivot_index + 1, right, k_smallest)\n",
    "\n",
    "    return quickselect(0, len(nums) - 1, len(nums) - k)\n",
    "\n",
    "# Example usage\n",
    "nums = [3, 2, 1, 5, 6, 4]\n",
    "k = 2\n",
    "\n",
    "result = findKthLargest(nums, k)\n",
    "print(result)\n"
   ]
  },
  {
   "cell_type": "code",
   "execution_count": 2,
   "id": "03efc09b-216c-47ac-a6dc-0c0c4620b1d1",
   "metadata": {},
   "outputs": [
    {
     "name": "stdout",
     "output_type": "stream",
     "text": [
      "[1, 3, 2, 5, 4, 6]\n"
     ]
    }
   ],
   "source": [
    "'''Problem 24: Given an unsorted array, reorder it in-place such that nums[0] <= nums[1] >= nums[2] <=\n",
    "nums[3]...   Input: nums = [3, 5, 2, 1, 6, 4]'''\n",
    "\n",
    "\n",
    "# code\n",
    "def wiggle_sort(nums):\n",
    "    nums.sort()\n",
    "    n = len(nums)\n",
    "    \n",
    "    # Swap adjacent elements to create the desired order\n",
    "    for i in range(1, n - 1, 2):\n",
    "        nums[i], nums[i + 1] = nums[i + 1], nums[i]\n",
    "\n",
    "# Example usage\n",
    "nums = [3, 5, 2, 1, 6, 4]\n",
    "wiggle_sort(nums)\n",
    "print(nums)\n"
   ]
  },
  {
   "cell_type": "code",
   "execution_count": 4,
   "id": "6773e043-50a3-4eff-9591-6d7e7e219383",
   "metadata": {},
   "outputs": [
    {
     "name": "stdout",
     "output_type": "stream",
     "text": [
      "15\n"
     ]
    }
   ],
   "source": [
    "'''Problem 25: Given an array of integers, calculate the sum of all its elements.   Input: [1, 2, 3, 4, 5]'''\n",
    "\n",
    "# code\n",
    "# Example usage\n",
    "nums = [1, 2, 3, 4, 5]\n",
    "result = sum(nums)\n",
    "print(result)\n"
   ]
  },
  {
   "cell_type": "code",
   "execution_count": 5,
   "id": "edde096a-0e31-43c8-842b-7f11ecc6c8e2",
   "metadata": {},
   "outputs": [
    {
     "name": "stdout",
     "output_type": "stream",
     "text": [
      "9\n"
     ]
    }
   ],
   "source": [
    "'''Problem 26: Find the maximum element in an array of integers. Input: [3, 7, 2, 9, 4, 1]'''\n",
    "\n",
    "# code\n",
    "# Example usage\n",
    "nums = [3, 7, 2, 9, 4, 1]\n",
    "result = max(nums)\n",
    "print(result)\n"
   ]
  },
  {
   "cell_type": "code",
   "execution_count": 6,
   "id": "4211ded7-c3ed-42a0-8c76-e9fdd7642e3c",
   "metadata": {},
   "outputs": [
    {
     "name": "stdout",
     "output_type": "stream",
     "text": [
      "Target 8 found at index 2.\n"
     ]
    }
   ],
   "source": [
    "'''Problem 27: Implement linear search to find the index of a target element in an array.  \n",
    "Input: [5, 3, 8, 2, 7, 4], target = 8'''\n",
    "\n",
    "# code\n",
    "def linear_search(arr, target):\n",
    "    for i in range(len(arr)):\n",
    "        if arr[i] == target:\n",
    "            return i\n",
    "    return -1  # Return -1 if the target element is not found\n",
    "\n",
    "# Example usage\n",
    "nums = [5, 3, 8, 2, 7, 4]\n",
    "target = 8\n",
    "result = linear_search(nums, target)\n",
    "\n",
    "if result != -1:\n",
    "    print(f\"Target {target} found at index {result}.\")\n",
    "else:\n",
    "    print(f\"Target {target} not found in the array.\")\n"
   ]
  },
  {
   "cell_type": "code",
   "execution_count": 7,
   "id": "fc0f4d9d-2eef-4205-a6e6-b9bf4eeba880",
   "metadata": {},
   "outputs": [
    {
     "name": "stdout",
     "output_type": "stream",
     "text": [
      "The factorial of 5 is: 120\n"
     ]
    }
   ],
   "source": [
    "'''Problem 28 Calculate the factorial of a given number. Input: 5'''\n",
    "\n",
    "# code\n",
    "def factorial(n):\n",
    "    result = 1\n",
    "    for i in range(1, n + 1):\n",
    "        result *= i\n",
    "    return result\n",
    "\n",
    "# Example usage\n",
    "input_number = 5\n",
    "output = factorial(input_number)\n",
    "print(f\"The factorial of {input_number} is: {output}\")\n"
   ]
  },
  {
   "cell_type": "code",
   "execution_count": 8,
   "id": "aeddfb71-3098-48c5-a206-c087770dfc6c",
   "metadata": {},
   "outputs": [
    {
     "name": "stdout",
     "output_type": "stream",
     "text": [
      "7 is a prime number: True\n"
     ]
    }
   ],
   "source": [
    "'''Problem 29: Check if a given number is a prime number.  Input: 7'''\n",
    "\n",
    "# code\n",
    "def is_prime(number):\n",
    "    if number < 2:\n",
    "        return False\n",
    "    for i in range(2, int(number**0.5) + 1):\n",
    "        if number % i == 0:\n",
    "            return False\n",
    "    return True\n",
    "\n",
    "# Example usage\n",
    "input_number = 7\n",
    "output = is_prime(input_number)\n",
    "print(f\"{input_number} is a prime number: {output}\")\n"
   ]
  },
  {
   "cell_type": "code",
   "execution_count": 9,
   "id": "f79dd7a1-8b7d-46dd-bf1d-cb59c396f342",
   "metadata": {},
   "outputs": [
    {
     "name": "stdout",
     "output_type": "stream",
     "text": [
      "[0, 1, 1, 2, 3, 5, 8, 13]\n"
     ]
    }
   ],
   "source": [
    "'''Problem 30: Generate the Fibonacci series up to a given number n.  Input: 8'''\n",
    "\n",
    "# code\n",
    "def generate_fibonacci(n):\n",
    "    fibonacci_sequence = [0, 1]\n",
    "    while len(fibonacci_sequence) < n:\n",
    "        next_term = fibonacci_sequence[-1] + fibonacci_sequence[-2]\n",
    "        fibonacci_sequence.append(next_term)\n",
    "    return fibonacci_sequence\n",
    "\n",
    "# Example usage\n",
    "input_number = 8\n",
    "output = generate_fibonacci(input_number)\n",
    "print(output)\n"
   ]
  },
  {
   "cell_type": "code",
   "execution_count": 10,
   "id": "5439d55c-25bf-412e-b3e0-a26a6ee4297d",
   "metadata": {},
   "outputs": [
    {
     "name": "stdout",
     "output_type": "stream",
     "text": [
      "3^4 is: 81\n"
     ]
    }
   ],
   "source": [
    "'''Problem 31: Calculate the power of a number using recursion. Input: base = 3, exponent = 4'''\n",
    "\n",
    "# code\n",
    "def power(base, exponent):\n",
    "    result = base ** exponent\n",
    "    return result\n",
    "\n",
    "# Example usage\n",
    "base = 3\n",
    "exponent = 4\n",
    "output = power(base, exponent)\n",
    "print(f\"{base}^{exponent} is: {output}\")\n"
   ]
  },
  {
   "cell_type": "code",
   "execution_count": 11,
   "id": "cd87d8b8-eeff-4e9c-b22d-51f3a28de326",
   "metadata": {},
   "outputs": [
    {
     "name": "stdout",
     "output_type": "stream",
     "text": [
      "olleh\n"
     ]
    }
   ],
   "source": [
    "'''Problem 32: Reverse a given string.  Input: \"hello\"'''\n",
    "\n",
    "# code\n",
    "def reverse_string(s):\n",
    "    reversed_s = s[::-1]\n",
    "    return reversed_s\n",
    "\n",
    "# Example usage\n",
    "input_str = \"hello\"\n",
    "output = reverse_string(input_str)\n",
    "print(output)\n"
   ]
  }
 ],
 "metadata": {
  "kernelspec": {
   "display_name": "Python 3 (ipykernel)",
   "language": "python",
   "name": "python3"
  },
  "language_info": {
   "codemirror_mode": {
    "name": "ipython",
    "version": 3
   },
   "file_extension": ".py",
   "mimetype": "text/x-python",
   "name": "python",
   "nbconvert_exporter": "python",
   "pygments_lexer": "ipython3",
   "version": "3.10.8"
  }
 },
 "nbformat": 4,
 "nbformat_minor": 5
}
